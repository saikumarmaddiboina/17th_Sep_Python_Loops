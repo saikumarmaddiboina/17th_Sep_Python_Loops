{
 "cells": [
  {
   "cell_type": "markdown",
   "id": "3c08a980-3f87-4573-bfa4-9edf68c44e01",
   "metadata": {},
   "source": [
    "For Loop :-"
   ]
  },
  {
   "cell_type": "markdown",
   "id": "8817aa29-7336-4f3c-8480-e2ea7b41bef9",
   "metadata": {},
   "source": [
    "Write a Python program to print numbers from 1 to 10 using a for loop."
   ]
  },
  {
   "cell_type": "code",
   "execution_count": 11,
   "id": "b7e14a92-d806-428e-a5f3-f6056c3fe76b",
   "metadata": {},
   "outputs": [],
   "source": [
    "num = [x for x in range(11)]"
   ]
  },
  {
   "cell_type": "code",
   "execution_count": 12,
   "id": "248b0b70-d0da-4a1e-9177-8483d4d621be",
   "metadata": {},
   "outputs": [
    {
     "data": {
      "text/plain": [
       "[0, 1, 2, 3, 4, 5, 6, 7, 8, 9, 10]"
      ]
     },
     "execution_count": 12,
     "metadata": {},
     "output_type": "execute_result"
    }
   ],
   "source": [
    "num"
   ]
  },
  {
   "cell_type": "markdown",
   "id": "b9f3766a-3c3c-464e-b26d-467b2dff7ce7",
   "metadata": {},
   "source": [
    "Explain the difference between a for loop and a while loop in Python."
   ]
  },
  {
   "cell_type": "markdown",
   "id": "b1dd86d8-c57d-4103-96c1-0e883a25d265",
   "metadata": {},
   "source": [
    "FOR LOOP:\n",
    "#It is used when we know the number of iterations.\n",
    "#If we know the range till how long should we loop then we can go for 'FOR LOOP'\n",
    "WHILE LOOP:\n",
    "#It is used when we do not know the number of iterations\n",
    "#To loop for infinite or till a given condition meets(When we do not know the range"
   ]
  },
  {
   "cell_type": "markdown",
   "id": "1fff80e2-72de-47c2-93aa-994e00664512",
   "metadata": {},
   "source": [
    "Write a Python program to calculate the sum of all numbers from 1 to 100 using a for loop.\n"
   ]
  },
  {
   "cell_type": "code",
   "execution_count": 14,
   "id": "0745c68e-91e8-4e45-90df-8f9e22a4ec1b",
   "metadata": {},
   "outputs": [
    {
     "name": "stdout",
     "output_type": "stream",
     "text": [
      "5050\n"
     ]
    }
   ],
   "source": [
    "result = 0\n",
    "\n",
    "for i in range(1,101):\n",
    "    result = result + i\n",
    "print(result)"
   ]
  },
  {
   "cell_type": "markdown",
   "id": "e96e8a88-5d2e-47a6-8d1a-4271bd8de850",
   "metadata": {},
   "source": [
    "How do you iterate through a list using a for loop in Python?"
   ]
  },
  {
   "cell_type": "code",
   "execution_count": 19,
   "id": "cadf4bb8-2f8a-475b-b072-b820c9e5e862",
   "metadata": {},
   "outputs": [
    {
     "name": "stdout",
     "output_type": "stream",
     "text": [
      "1 2 3 4 5 "
     ]
    }
   ],
   "source": [
    "l = [1,2,3,4,5]\n",
    "\n",
    "for i in l:\n",
    "    print(i, end=' ')"
   ]
  },
  {
   "cell_type": "markdown",
   "id": "6304336e-e117-4325-b30c-31f56e015cc4",
   "metadata": {},
   "source": [
    "Write a Python program to find the product of all elements in a list using a for loop."
   ]
  },
  {
   "cell_type": "code",
   "execution_count": 21,
   "id": "4480bc05-2a07-4bd8-aae3-9d15c202006c",
   "metadata": {},
   "outputs": [
    {
     "name": "stdout",
     "output_type": "stream",
     "text": [
      "6\n"
     ]
    }
   ],
   "source": [
    "l = [1,2,3]\n",
    "\n",
    "mul = 1\n",
    "\n",
    "for i in l:\n",
    "    mul = mul * i\n",
    "print(mul)"
   ]
  },
  {
   "cell_type": "markdown",
   "id": "2b12ed60-1f6a-4c00-966b-1c6dbcf4caa0",
   "metadata": {},
   "source": [
    "Create a Python program that prints all even numbers from 1 to 20 using a for loop.\n"
   ]
  },
  {
   "cell_type": "code",
   "execution_count": 23,
   "id": "4f49e01d-5357-4355-87c9-a1d4406ea9a9",
   "metadata": {},
   "outputs": [
    {
     "data": {
      "text/plain": [
       "[2, 4, 6, 8, 10, 12, 14, 16, 18, 20]"
      ]
     },
     "execution_count": 23,
     "metadata": {},
     "output_type": "execute_result"
    }
   ],
   "source": [
    "Even_Num = list(range(1,21))\n",
    "[x for x in Even_Num if x % 2 == 0]"
   ]
  },
  {
   "cell_type": "markdown",
   "id": "12aaf0b0-d647-4566-a86a-781912e49261",
   "metadata": {},
   "source": [
    "Write a Python program that calculates the factorial of a number using a for loop."
   ]
  },
  {
   "cell_type": "code",
   "execution_count": 28,
   "id": "cc526746-4521-4479-be88-5be1ce4d51e8",
   "metadata": {},
   "outputs": [
    {
     "name": "stdout",
     "output_type": "stream",
     "text": [
      "3628800\n"
     ]
    }
   ],
   "source": [
    "num = 10\n",
    "fac = 1\n",
    "for i in range(1,num+1):\n",
    "    fac = fac * i\n",
    "print(fac)"
   ]
  },
  {
   "cell_type": "markdown",
   "id": "744292a0-0a02-4c15-b8ae-c506bc6d20e0",
   "metadata": {},
   "source": [
    "How can you iterate through the characters of a string using a for loop in Python?"
   ]
  },
  {
   "cell_type": "code",
   "execution_count": 29,
   "id": "07aa7c56-05ce-43de-9de0-869d02abc191",
   "metadata": {},
   "outputs": [
    {
     "data": {
      "text/plain": [
       "['s', 'a', 'i', 'k', 'u', 'm', 'a', 'r']"
      ]
     },
     "execution_count": 29,
     "metadata": {},
     "output_type": "execute_result"
    }
   ],
   "source": [
    "name = 'saikumar'\n",
    "#iterate through each character in the string\n",
    "[char for char in name]"
   ]
  },
  {
   "cell_type": "markdown",
   "id": "9965778e-9678-42de-bee2-45e8d7c7b151",
   "metadata": {},
   "source": [
    "Write a Python program to find the largest number in a list using a for loop."
   ]
  },
  {
   "cell_type": "code",
   "execution_count": 33,
   "id": "90d5b013-efe9-4e7e-ae1e-d482f4b11e1f",
   "metadata": {},
   "outputs": [
    {
     "name": "stdout",
     "output_type": "stream",
     "text": [
      "32123\n"
     ]
    }
   ],
   "source": [
    "l1 = [10,122,34,22,1,1,222,3333,32123]\n",
    "max_num = l1[0]\n",
    "for num in l1:\n",
    "    if num > max_num:\n",
    "        max_num = num\n",
    "print(max_num)\n"
   ]
  },
  {
   "cell_type": "markdown",
   "id": "42899a22-e878-4f50-bd37-589537d82ccb",
   "metadata": {},
   "source": [
    "Create a Python program that prints the Fibonacci sequence up to a specified limit using a for loop."
   ]
  },
  {
   "cell_type": "code",
   "execution_count": 37,
   "id": "74e85bcf-0d24-4523-b169-7d9ffdb2a86e",
   "metadata": {},
   "outputs": [
    {
     "name": "stdin",
     "output_type": "stream",
     "text": [
      "Enter the limit:  10\n"
     ]
    },
    {
     "name": "stdout",
     "output_type": "stream",
     "text": [
      "0\n",
      "1\n",
      "1\n",
      "2\n",
      "3\n",
      "5\n",
      "8\n",
      "13\n",
      "21\n",
      "34\n"
     ]
    }
   ],
   "source": [
    "n = int(input(\"Enter the limit: \"))\n",
    "\n",
    "x = 0\n",
    "y = 1\n",
    "\n",
    "print(x)\n",
    "print(y)\n",
    "for i in range(n-2):\n",
    "    z = x + y\n",
    "    x = y\n",
    "    y = z\n",
    "    print(z)"
   ]
  },
  {
   "cell_type": "markdown",
   "id": "720d772c-439f-4806-bd8f-b25960e26ab7",
   "metadata": {},
   "source": [
    "Write a Python program to count the number of vowels in a given string using a for loop.\n"
   ]
  },
  {
   "cell_type": "code",
   "execution_count": 38,
   "id": "c6656f7e-b573-415d-b7c6-0231b29047bf",
   "metadata": {},
   "outputs": [
    {
     "name": "stdout",
     "output_type": "stream",
     "text": [
      "4\n"
     ]
    }
   ],
   "source": [
    "name = 'saikumar'\n",
    "count = 0\n",
    "for i in name:\n",
    "    if i in ['a','e','i','o','u']:\n",
    "        count = count + 1\n",
    "print(count)"
   ]
  },
  {
   "cell_type": "markdown",
   "id": "6b72cbfd-4c67-48ae-bd48-1c38b757f0d3",
   "metadata": {},
   "source": [
    "Create a Python program that generates a multiplication table for a given number using a for loop."
   ]
  },
  {
   "cell_type": "code",
   "execution_count": 39,
   "id": "286d246e-7c71-42d7-a2c8-c77dfd4091bc",
   "metadata": {},
   "outputs": [
    {
     "name": "stdout",
     "output_type": "stream",
     "text": [
      "9 * 1 = 9\n",
      "9 * 2 = 18\n",
      "9 * 3 = 27\n",
      "9 * 4 = 36\n",
      "9 * 5 = 45\n",
      "9 * 6 = 54\n",
      "9 * 7 = 63\n",
      "9 * 8 = 72\n",
      "9 * 9 = 81\n",
      "9 * 10 = 90\n"
     ]
    }
   ],
   "source": [
    "num = 9\n",
    "\n",
    "for i in range(1,11):\n",
    "    print(num,'*',i,'=',num*i)"
   ]
  },
  {
   "cell_type": "markdown",
   "id": "5887967d-77af-4fcb-bf96-91d32ea0bd00",
   "metadata": {},
   "source": [
    "Write a Python program to reverse a list using a for loop.\n"
   ]
  },
  {
   "cell_type": "code",
   "execution_count": 42,
   "id": "d6f28ee0-9134-42a6-964f-d8366d287dac",
   "metadata": {},
   "outputs": [
    {
     "name": "stdout",
     "output_type": "stream",
     "text": [
      "7 6 5 4 3 2 1 "
     ]
    }
   ],
   "source": [
    "list = [1,2,3,4,5,6,7]\n",
    "\n",
    "for i in list[::-1]:\n",
    "    print(i,end = ' ')"
   ]
  },
  {
   "cell_type": "markdown",
   "id": "7bcfd030-998f-42ed-86d1-2a5ddf308907",
   "metadata": {},
   "source": [
    "Write a Python program to find the common elements between two lists using a for loop.\n"
   ]
  },
  {
   "cell_type": "code",
   "execution_count": 44,
   "id": "e17aa00c-0df5-43af-ab15-da9246815d0b",
   "metadata": {},
   "outputs": [
    {
     "name": "stdout",
     "output_type": "stream",
     "text": [
      "[2, 8, 4]\n"
     ]
    }
   ],
   "source": [
    "l1 = [1,2,5,7,8,4]\n",
    "l2 = [8,4,2,0,3,9]\n",
    "common_list = []\n",
    "for i in l1:\n",
    "    for j in l2:\n",
    "        if i == j:\n",
    "            common_list.append(i)\n",
    "print(common_list)"
   ]
  },
  {
   "cell_type": "markdown",
   "id": "b66e2690-fbaa-4fed-b0a5-4218e2a9ca76",
   "metadata": {},
   "source": [
    "Explain how to use a for loop to iterate through the keys and values of a dictionary in Python."
   ]
  },
  {
   "cell_type": "code",
   "execution_count": 48,
   "id": "7efec573-02ac-4462-a7d1-acf2f34af441",
   "metadata": {},
   "outputs": [
    {
     "name": "stdout",
     "output_type": "stream",
     "text": [
      "name sai\n",
      "age 24\n",
      "country Bharat\n"
     ]
    }
   ],
   "source": [
    "#Using items function one can iterate through a dictionary\n",
    "\n",
    "dictionary = {'name':'sai','age':24,'country':'Bharat'}\n",
    "\n",
    "for key,value in dictionary.items():\n",
    "    print(key,value)"
   ]
  },
  {
   "cell_type": "markdown",
   "id": "b19ee80f-67a2-4744-a297-3f954cb31348",
   "metadata": {},
   "source": [
    "Write a Python program to find the GCD (Greatest Common Divisor) of two numbers using a for loop.\n"
   ]
  },
  {
   "cell_type": "code",
   "execution_count": 51,
   "id": "1de17eda-6e2a-4a0a-9225-a2f53503351b",
   "metadata": {},
   "outputs": [
    {
     "name": "stdout",
     "output_type": "stream",
     "text": [
      "GCD = 10\n"
     ]
    }
   ],
   "source": [
    "x = 10\n",
    "y = 20\n",
    "\n",
    "if x > y:\n",
    "    x,y = y,x\n",
    "for i in range(1,x+1):\n",
    "    if x%i == 0 and y%i == 0:\n",
    "        i\n",
    "print(\"GCD\",\"=\",i)"
   ]
  },
  {
   "cell_type": "markdown",
   "id": "46b5cfbc-3f03-41d4-addc-2b46f41daf83",
   "metadata": {},
   "source": [
    "Create a Python program that checks if a string is a palindrome using a for loop.\n"
   ]
  },
  {
   "cell_type": "code",
   "execution_count": 15,
   "id": "32f0cf2b-ff98-4614-8f57-5d3e2ae4d753",
   "metadata": {},
   "outputs": [
    {
     "name": "stdout",
     "output_type": "stream",
     "text": [
      "Not Palindrome\n"
     ]
    }
   ],
   "source": [
    "s1 = 'sai'\n",
    "s2 = ' ' \n",
    "for i in s1[::-1]:\n",
    "    s2 = s2 + i\n",
    "if s1 == s2:\n",
    "    print(\"Palindrome\")\n",
    "else:\n",
    "    print(\"Not Palindrome\")"
   ]
  },
  {
   "cell_type": "markdown",
   "id": "d0ee86c8-e9aa-4e4a-ac85-05b7ae70bef0",
   "metadata": {},
   "source": [
    "Write a Python program to remove duplicates from a list using a for loop."
   ]
  },
  {
   "cell_type": "code",
   "execution_count": 20,
   "id": "579e61d5-5c7a-439f-bbc7-ab05e8f4e24c",
   "metadata": {},
   "outputs": [
    {
     "name": "stdout",
     "output_type": "stream",
     "text": [
      "{1, 2, 3, 4, 5, 6}\n"
     ]
    }
   ],
   "source": [
    "l = [1,2,3,1,2,3,4,4,4,5,6]\n",
    "\n",
    "s = set()\n",
    "\n",
    "for i in l:\n",
    "    s.add(i)\n",
    "print(s)"
   ]
  },
  {
   "cell_type": "markdown",
   "id": "158d8745-5526-4de3-bad4-d8b385cc5976",
   "metadata": {},
   "source": [
    "Create a Python program that counts the number of words in a sentence using a for loop."
   ]
  },
  {
   "cell_type": "code",
   "execution_count": 26,
   "id": "043d3fc8-80b6-4cf0-95b5-80f0ae5537a7",
   "metadata": {},
   "outputs": [
    {
     "data": {
      "text/plain": [
       "8"
      ]
     },
     "execution_count": 26,
     "metadata": {},
     "output_type": "execute_result"
    }
   ],
   "source": [
    "sentence = \"This is Sai Kumar, Working in BIE department\"\n",
    "\n",
    "s = sentence.split()\n",
    "\n",
    "count = 0\n",
    "for i in s:\n",
    "    count = count + 1\n",
    "count"
   ]
  },
  {
   "cell_type": "markdown",
   "id": "d36903dc-5aff-474a-ac23-5f7ab0a91b04",
   "metadata": {},
   "source": [
    "Write a Python program to find the sum of all odd numbers from 1 to 50 using a for loop"
   ]
  },
  {
   "cell_type": "code",
   "execution_count": 30,
   "id": "fa9436db-75bd-4c21-85ac-31e3185fa8d2",
   "metadata": {},
   "outputs": [
    {
     "name": "stdout",
     "output_type": "stream",
     "text": [
      "1275\n"
     ]
    }
   ],
   "source": [
    "sum_num = 0\n",
    "\n",
    "for num in range(1,51):\n",
    "    \n",
    "    sum_num = sum_num + num\n",
    "print(sum_num)"
   ]
  },
  {
   "cell_type": "markdown",
   "id": "db5ecee1-697c-4102-83aa-c85b16befc1e",
   "metadata": {},
   "source": [
    "Write a Python program that checks if a given year is a leap year using a for loop."
   ]
  },
  {
   "cell_type": "code",
   "execution_count": 33,
   "id": "f01180c4-ca80-4cab-b1ac-77fdc32ca1b7",
   "metadata": {},
   "outputs": [
    {
     "name": "stdout",
     "output_type": "stream",
     "text": [
      "2000 : Leap Year\n",
      "1001 : Not a Leap Year\n",
      "2002 : Not a Leap Year\n",
      "3000 : Leap Year\n",
      "2040 : Leap Year\n"
     ]
    }
   ],
   "source": [
    "years =[2000,1001,2002,3000,2040]\n",
    "\n",
    "for year in years:\n",
    "    if year % 100 == 0 and year % 400 == 0 or year % 4 == 0:\n",
    "        print(year,':',\"Leap Year\")\n",
    "    else:\n",
    "        print(year,':',\"Not a Leap Year\")"
   ]
  },
  {
   "cell_type": "markdown",
   "id": "18fe0044-3874-4bc2-ac09-3d7a6e9f9be4",
   "metadata": {},
   "source": [
    "Create a Python program that calculates the square root of a number using a for loop."
   ]
  },
  {
   "cell_type": "code",
   "execution_count": 10,
   "id": "cc9a8dbe-bd88-49cd-aff0-454200607182",
   "metadata": {},
   "outputs": [
    {
     "data": {
      "text/plain": [
       "[1.0, 1.4142135623730951, 1.7320508075688772]"
      ]
     },
     "execution_count": 10,
     "metadata": {},
     "output_type": "execute_result"
    }
   ],
   "source": [
    "l = [1,2,3]\n",
    "\n",
    "sq_root = [i**0.5 for i in l]\n",
    "sq_root"
   ]
  },
  {
   "cell_type": "markdown",
   "id": "778859dc-6300-417c-8efa-ac01b26b06c3",
   "metadata": {},
   "source": [
    "Write a Python program to find the LCM (Least Common Multiple) of two numbers using a for loop."
   ]
  },
  {
   "cell_type": "code",
   "execution_count": 8,
   "id": "245cd096-ef43-41ec-b967-bbe76f644299",
   "metadata": {},
   "outputs": [
    {
     "name": "stdout",
     "output_type": "stream",
     "text": [
      "LCM of 20 and 25 is: 100.0\n"
     ]
    }
   ],
   "source": [
    "x = 20\n",
    "y = 25\n",
    "if x > y:\n",
    "    x, y = y, x\n",
    "for i in range(1,x+1):\n",
    "    if x%i == 0 and y%i == 0:\n",
    "        gcd = i\n",
    "\n",
    "lcm = (x*y)/gcd\n",
    "\n",
    "print(\"LCM of\", x, \"and\", y, \"is:\", lcm)"
   ]
  },
  {
   "cell_type": "markdown",
   "id": "2c3ed646-9354-44c7-a52e-ea6df8559b7e",
   "metadata": {},
   "source": [
    "If else :"
   ]
  },
  {
   "cell_type": "markdown",
   "id": "f4950ee7-d353-420e-98c6-a69e62198bba",
   "metadata": {},
   "source": [
    "Write a Python program to check if a number is positive, negative, or zero using an if-else statement."
   ]
  },
  {
   "cell_type": "code",
   "execution_count": 15,
   "id": "a5561a1c-79c1-4ac8-94b0-8082f76141da",
   "metadata": {},
   "outputs": [
    {
     "name": "stdout",
     "output_type": "stream",
     "text": [
      "Positive\n"
     ]
    }
   ],
   "source": [
    "num = 10\n",
    "\n",
    "if num > 0:\n",
    "    print(\"Positive\")\n",
    "elif num == 0:\n",
    "    print(\"Zero\")\n",
    "else:\n",
    "    print(\"Negative\")"
   ]
  },
  {
   "cell_type": "markdown",
   "id": "99d8a708-582d-4727-888c-d9564b244ed3",
   "metadata": {},
   "source": [
    "Create a Python program that checks if a given number is even or odd using an if-else statement."
   ]
  },
  {
   "cell_type": "code",
   "execution_count": 16,
   "id": "a3b30fc3-db34-42fb-b137-e4232e6b8b75",
   "metadata": {},
   "outputs": [
    {
     "name": "stdout",
     "output_type": "stream",
     "text": [
      "Odd\n"
     ]
    }
   ],
   "source": [
    "num = 5\n",
    "\n",
    "#Check for even\n",
    "\n",
    "if num % 2 == 0:\n",
    "    print(\"Even\")\n",
    "elif num == 0:\n",
    "    print(\"You entered zero\")\n",
    "else:\n",
    "    print(\"Odd\")"
   ]
  },
  {
   "cell_type": "markdown",
   "id": "a839ebb0-8816-480c-acf0-fb416b121999",
   "metadata": {},
   "source": [
    "How can you use nested if-else statements in Python, and provide an example?"
   ]
  },
  {
   "cell_type": "code",
   "execution_count": 23,
   "id": "b533c1ec-3be6-4a9e-b51d-04bc986535cb",
   "metadata": {},
   "outputs": [
    {
     "name": "stdout",
     "output_type": "stream",
     "text": [
      "Number is greater than 150\n"
     ]
    }
   ],
   "source": [
    "num = 1200\n",
    "\n",
    "if num > 100:\n",
    "    if num <150:\n",
    "        print(\"Between 100 and 150\")\n",
    "    else:\n",
    "        print(\"Number is greater than 150\")"
   ]
  },
  {
   "cell_type": "markdown",
   "id": "aab0e6c8-3349-434c-b135-8cfcd6c6ac66",
   "metadata": {},
   "source": [
    "Write a Python program to determine the largest of three numbers using if-else."
   ]
  },
  {
   "cell_type": "code",
   "execution_count": 28,
   "id": "7364bd30-a40b-4bbe-a77d-9036a7908e5f",
   "metadata": {},
   "outputs": [
    {
     "name": "stdout",
     "output_type": "stream",
     "text": [
      "3 :num1 is greatest\n"
     ]
    }
   ],
   "source": [
    "num1 = 3\n",
    "\n",
    "num2 = 1\n",
    "\n",
    "num3 = 2\n",
    "\n",
    "if num1 > num2 and num1 > num3:\n",
    "    print(num1, \":num1 is greatest\")\n",
    "elif num2 > num1 and num2 > num3:\n",
    "    print(num2, \":num2 is greatest\")\n",
    "else:\n",
    "    print(num3, \":num3 is greatest\")"
   ]
  },
  {
   "cell_type": "markdown",
   "id": "f08f8c18-1794-404c-a1eb-6e5e7385cf13",
   "metadata": {},
   "source": [
    "Write a Python program that calculates the absolute value of a number using if-else."
   ]
  },
  {
   "cell_type": "code",
   "execution_count": 29,
   "id": "8e258328-ce6f-462c-9b29-52ea522744d0",
   "metadata": {},
   "outputs": [
    {
     "name": "stdout",
     "output_type": "stream",
     "text": [
      "12\n"
     ]
    }
   ],
   "source": [
    "num = -12\n",
    "\n",
    "if num < 0:\n",
    "    print(-num)\n",
    "else:\n",
    "    print(num)"
   ]
  },
  {
   "cell_type": "markdown",
   "id": "c7e2fcdd-5d61-4e72-87c5-ce06d91b2d88",
   "metadata": {},
   "source": [
    "Create a Python program that checks if a given character is a vowel or consonant using if-else."
   ]
  },
  {
   "cell_type": "code",
   "execution_count": 30,
   "id": "197731e1-bedc-4386-896a-9cee28d7b6ed",
   "metadata": {},
   "outputs": [
    {
     "name": "stdout",
     "output_type": "stream",
     "text": [
      "Vowel\n"
     ]
    }
   ],
   "source": [
    "char = 'a'\n",
    "\n",
    "if char in ['a','e','i','o','u']:\n",
    "    print('Vowel')\n",
    "else:\n",
    "    print('consonant')"
   ]
  },
  {
   "cell_type": "markdown",
   "id": "f84d2eb9-9f10-4e0b-b138-2d433dd737ab",
   "metadata": {},
   "source": [
    "Write a Python program to determine if a user is eligible to vote based on their age using if-else."
   ]
  },
  {
   "cell_type": "code",
   "execution_count": 31,
   "id": "7ba596d6-2518-499b-a0fe-9d468016f45e",
   "metadata": {},
   "outputs": [
    {
     "name": "stdin",
     "output_type": "stream",
     "text": [
      "Enter the age:  20\n"
     ]
    },
    {
     "name": "stdout",
     "output_type": "stream",
     "text": [
      "You are eligible to vote\n"
     ]
    }
   ],
   "source": [
    "persons_age = int(input(\"Enter the age: \"))\n",
    "\n",
    "if persons_age >= 18:\n",
    "    print(\"You are eligible to vote\")\n",
    "else:\n",
    "    print(\"You are not eligible to vote\")"
   ]
  },
  {
   "cell_type": "markdown",
   "id": "1324a54b-1e67-4787-8a9f-f7e57bd9be7c",
   "metadata": {},
   "source": [
    "Create a Python program that calculates the discount amount based on the purchase amount using if-else."
   ]
  },
  {
   "cell_type": "code",
   "execution_count": 32,
   "id": "e760d4ba-2cde-4a8f-b407-05290e7a5ac1",
   "metadata": {},
   "outputs": [
    {
     "name": "stdout",
     "output_type": "stream",
     "text": [
      "90.0\n"
     ]
    }
   ],
   "source": [
    "Purchase_Price = 100\n",
    "\n",
    "if Purchase_Price >= 100:\n",
    "    #Discount=10%\n",
    "    Price = 100*(1 - 0.1)\n",
    "    print(Price)\n",
    "elif Purchase_Price >=80:\n",
    "    #Discount=6%\n",
    "    Price = 100*(1 - 0.06)\n",
    "else:\n",
    "    Price(Purchase_Price)"
   ]
  },
  {
   "cell_type": "markdown",
   "id": "99d450b4-a86f-45be-a92a-04fa4415b16a",
   "metadata": {},
   "source": [
    "Write a Python program to check if a number is within a specified range using if-else."
   ]
  },
  {
   "cell_type": "code",
   "execution_count": 33,
   "id": "06c7e603-a7e6-429e-9700-811299f851da",
   "metadata": {},
   "outputs": [
    {
     "name": "stdout",
     "output_type": "stream",
     "text": [
      "Within the specified range\n"
     ]
    }
   ],
   "source": [
    "num = 10\n",
    "\n",
    "if num>2 and num<12:\n",
    "    print(\"Within the specified range\")\n",
    "else:\n",
    "    print(\"Not in the secified range\")"
   ]
  },
  {
   "cell_type": "markdown",
   "id": "e66c17de-8e1f-4739-b8ad-7c63c91dafd4",
   "metadata": {},
   "source": [
    "Create a Python program that determines the grade of a student based on their score using if-else."
   ]
  },
  {
   "cell_type": "code",
   "execution_count": 34,
   "id": "708adf6f-c5f2-4b9b-a25d-85c597e1a7fa",
   "metadata": {},
   "outputs": [
    {
     "name": "stdout",
     "output_type": "stream",
     "text": [
      "A Grade\n"
     ]
    }
   ],
   "source": [
    "score = 80\n",
    "\n",
    "if score >= 80:\n",
    "    print(\"A Grade\")\n",
    "elif score >= 60:\n",
    "    print(\"B Grade\")\n",
    "elif score >= 35:\n",
    "    print(\"C Grade\")\n",
    "else:\n",
    "    print(\"Fail\")"
   ]
  },
  {
   "cell_type": "markdown",
   "id": "de06e355-cdab-4b4c-b974-3fc076282a7e",
   "metadata": {},
   "source": [
    "Write a Python program to check if a string is empty or not using if-else."
   ]
  },
  {
   "cell_type": "code",
   "execution_count": 44,
   "id": "91ca9bfd-b304-4860-96d6-7275545dfaac",
   "metadata": {},
   "outputs": [
    {
     "name": "stdout",
     "output_type": "stream",
     "text": [
      "Empty\n"
     ]
    }
   ],
   "source": [
    "string = '  '\n",
    "if string.isspace():\n",
    "    print(\"Empty\")\n",
    "else:\n",
    "    print(\"Not Empty\")"
   ]
  },
  {
   "cell_type": "markdown",
   "id": "eec3b95b-ae4d-48e0-9d38-357f46d94339",
   "metadata": {},
   "source": [
    "Create a Python program that identifies the type of a triangle (e.g., equilateral, isosceles, or scalene) based on input values using if-else.\n"
   ]
  },
  {
   "cell_type": "code",
   "execution_count": 49,
   "id": "cf05bd8e-f833-4308-99bc-3ee92fac6dca",
   "metadata": {},
   "outputs": [
    {
     "name": "stdin",
     "output_type": "stream",
     "text": [
      "Enter the side 1 value:  12\n",
      "Enter the side 2 value:  22\n",
      "Enter the side 3 value:  1\n"
     ]
    },
    {
     "name": "stdout",
     "output_type": "stream",
     "text": [
      "Scalene\n"
     ]
    }
   ],
   "source": [
    "a = int(input(\"Enter the side 1 value: \"))\n",
    "b = int(input(\"Enter the side 2 value: \"))\n",
    "c = int(input(\"Enter the side 3 value: \"))\n",
    "\n",
    "if a == b == c:\n",
    "    print(\"Equilateral\")\n",
    "    if (a==b!=c) or (a!=b==c) or (a==c!=b):\n",
    "        print(\"Isosceles\")\n",
    "else:\n",
    "    print(\"Scalene\")"
   ]
  },
  {
   "cell_type": "markdown",
   "id": "9f1d1412-3f09-4091-b94a-10607021733f",
   "metadata": {},
   "source": [
    "Write a Python program to determine the day of the week based on a user-provided number using if-else."
   ]
  },
  {
   "cell_type": "code",
   "execution_count": 64,
   "id": "60a027ab-8a7b-43da-b79a-de3b8856899c",
   "metadata": {},
   "outputs": [
    {
     "name": "stdout",
     "output_type": "stream",
     "text": [
      "Sun\n"
     ]
    }
   ],
   "source": [
    "l = ['Mon', 'Tue', 'Wed', 'Thu', 'Fri', 'Sat', 'Sun']\n",
    "a = list(enumerate(l,1))\n",
    "n = 7\n",
    "for i in a:\n",
    "    if i[0] == n:\n",
    "        print(i[1])"
   ]
  },
  {
   "cell_type": "markdown",
   "id": "6821eadd-5df3-41fc-824d-24815897d5bc",
   "metadata": {},
   "source": [
    "Create a Python program that checks if a given year is a leap year using both if-else and a function."
   ]
  },
  {
   "cell_type": "code",
   "execution_count": 66,
   "id": "0d7bd5d1-d8f6-4395-9d61-526fc8e90fdb",
   "metadata": {},
   "outputs": [
    {
     "name": "stdout",
     "output_type": "stream",
     "text": [
      "Not a Leap Year\n"
     ]
    }
   ],
   "source": [
    "def is_leap_year(year):\n",
    "    if (year % 100 == 0) and (year % 400 == 0) or (year % 4 == 0):\n",
    "        return True\n",
    "    else:\n",
    "        return False\n",
    "year = 2021\n",
    "\n",
    "if is_leap_year(year):\n",
    "    print(\"Leap Year\")\n",
    "    \n",
    "else:\n",
    "    print(\"Not a Leap Year\")"
   ]
  },
  {
   "cell_type": "markdown",
   "id": "23c039d9-1ce3-4039-8b63-2285d12bd46c",
   "metadata": {},
   "source": [
    "How do you use the \"assert\" statement in Python to add debugging checks within if-else blocks?"
   ]
  },
  {
   "cell_type": "raw",
   "id": "8cd2f5b1-fd82-46c1-a54a-084cfd7e2f5b",
   "metadata": {},
   "source": [
    "assertion is the boolean expression that checks if the statement is True or False. If the statement is true then it does nothing and continues the execution, but if the statement is False then it stops the execution of the program and throws an error."
   ]
  },
  {
   "cell_type": "code",
   "execution_count": 1,
   "id": "16312d0f-0820-4817-b062-7e92bdd00179",
   "metadata": {},
   "outputs": [
    {
     "name": "stdout",
     "output_type": "stream",
     "text": [
      "2\n",
      "0\n",
      "a/b is :\n"
     ]
    },
    {
     "ename": "AssertionError",
     "evalue": "Zero Division Error",
     "output_type": "error",
     "traceback": [
      "\u001b[0;31m---------------------------------------------------------------------------\u001b[0m",
      "\u001b[0;31mAssertionError\u001b[0m                            Traceback (most recent call last)",
      "Cell \u001b[0;32mIn[1], line 7\u001b[0m\n\u001b[1;32m      5\u001b[0m \u001b[38;5;28mprint\u001b[39m(b)\n\u001b[1;32m      6\u001b[0m \u001b[38;5;28mprint\u001b[39m(\u001b[38;5;124m\"\u001b[39m\u001b[38;5;124ma/b is :\u001b[39m\u001b[38;5;124m\"\u001b[39m)\n\u001b[0;32m----> 7\u001b[0m \u001b[38;5;28;01massert\u001b[39;00m b\u001b[38;5;241m!=\u001b[39m\u001b[38;5;241m0\u001b[39m, \u001b[38;5;124m\"\u001b[39m\u001b[38;5;124mZero Division Error\u001b[39m\u001b[38;5;124m\"\u001b[39m\n\u001b[1;32m      9\u001b[0m \u001b[38;5;28mprint\u001b[39m(a\u001b[38;5;241m/\u001b[39mb)\n",
      "\u001b[0;31mAssertionError\u001b[0m: Zero Division Error"
     ]
    }
   ],
   "source": [
    "a = 2\n",
    "b = 0\n",
    "\n",
    "print(a)\n",
    "print(b)\n",
    "print(\"a/b is :\")\n",
    "assert b!=0, \"Zero Division Error\"\n",
    "\n",
    "print(a/b)"
   ]
  },
  {
   "cell_type": "markdown",
   "id": "91d3c92b-5ee7-4678-88b6-0a1b76297777",
   "metadata": {},
   "source": [
    "Create a Python program that determines the eligibility of a person for a senior citizen discount based on age using if-else."
   ]
  },
  {
   "cell_type": "code",
   "execution_count": 4,
   "id": "73eabc89-f9a4-4a3e-944b-a6fdc356a19e",
   "metadata": {},
   "outputs": [
    {
     "name": "stdin",
     "output_type": "stream",
     "text": [
      "Enter the age:  60\n"
     ]
    },
    {
     "name": "stdout",
     "output_type": "stream",
     "text": [
      "You are eligible for a senior citizen discount \n"
     ]
    }
   ],
   "source": [
    "persons_age = int(input(\"Enter the age: \"))\n",
    "\n",
    "if persons_age >= 60:\n",
    "    print(\"You are eligible for a senior citizen discount \")\n",
    "else:\n",
    "    print(\"You are not eligible for a senior citizen discount \")"
   ]
  },
  {
   "cell_type": "markdown",
   "id": "28bc3e64-27a9-4df6-b2cc-955c9bf0b9e5",
   "metadata": {},
   "source": [
    "Write a Python program to categorize a given character as uppercase, lowercase, or neither using if-else."
   ]
  },
  {
   "cell_type": "code",
   "execution_count": 13,
   "id": "9efcdf69-4c6d-4465-8734-fa39a5b8bfb1",
   "metadata": {},
   "outputs": [
    {
     "name": "stdout",
     "output_type": "stream",
     "text": [
      "Upper\n"
     ]
    }
   ],
   "source": [
    "char = 'S'\n",
    "\n",
    "if char.isupper():\n",
    "    print(\"Upper\")\n",
    "elif char.islower():\n",
    "    print(\"Lower\")\n",
    "else:\n",
    "    print(\"Neither of above\")"
   ]
  },
  {
   "cell_type": "markdown",
   "id": "d8dd9ee7-f4d7-4d8f-b493-216e29f31dc7",
   "metadata": {},
   "source": [
    "Write a Python program to determine the roots of a quadratic equation using if-else.\n"
   ]
  },
  {
   "cell_type": "code",
   "execution_count": 15,
   "id": "6ed8447d-41cb-42b0-a25a-4df07e2ac5a8",
   "metadata": {},
   "outputs": [
    {
     "name": "stdout",
     "output_type": "stream",
     "text": [
      "Sol1 is :  (-2+0j) and Sol2 is :  (-3+0j)\n"
     ]
    }
   ],
   "source": [
    "import cmath\n",
    "a = 1\n",
    "b = 5\n",
    "c = 6\n",
    "\n",
    "d = b**2 - 4*a*c\n",
    "\n",
    "sol1 = (-b + cmath.sqrt(d)) / 2*a\n",
    "\n",
    "sol2 = (-b - cmath.sqrt(d)) / 2*a\n",
    "\n",
    "\n",
    "print(\"Sol1 is : \",sol1, \"and Sol2 is : \",sol2)\n"
   ]
  },
  {
   "cell_type": "markdown",
   "id": "f866d289-ca51-4ad5-8af7-b1105ae34e37",
   "metadata": {},
   "source": [
    "Create a Python program that checks if a given year is a century year or not using if-else.\n"
   ]
  },
  {
   "cell_type": "code",
   "execution_count": 17,
   "id": "95b0d3f7-e1c3-49cb-bce8-286f3c0e720d",
   "metadata": {},
   "outputs": [
    {
     "name": "stdout",
     "output_type": "stream",
     "text": [
      "2000 is a leap year\n"
     ]
    }
   ],
   "source": [
    "year = 2000\n",
    "\n",
    "# divided by 100 means century year (ending with 00)\n",
    "# century year divided by 400 is leap year\n",
    "if (year % 400 == 0) and (year % 100 == 0):\n",
    "    print(f\"{year} is a leap year\")\n",
    "\n",
    "# not divided by 100 means not a century year\n",
    "# year divided by 4 is a leap year\n",
    "elif (year % 4 ==0) and (year % 100 != 0):\n",
    "    print(f\"{year} is a leap year\")\n",
    "\n",
    "# if not divided by both 400 (century year) and 4 (not century year)\n",
    "# year is not leap year\n",
    "else:\n",
    "    print(f\"{year} is not a leap year\")"
   ]
  },
  {
   "cell_type": "markdown",
   "id": "31f79e01-4192-4387-9aea-0c6c5b802347",
   "metadata": {},
   "source": [
    "Write a Python program to determine if a given number is a perfect square using if-else."
   ]
  },
  {
   "cell_type": "code",
   "execution_count": 54,
   "id": "70af0678-9108-4ac6-8526-4371812b069f",
   "metadata": {},
   "outputs": [
    {
     "name": "stdout",
     "output_type": "stream",
     "text": [
      "10 is a perfect Square\n"
     ]
    }
   ],
   "source": [
    "import math\n",
    "\n",
    "num =  100\n",
    "\n",
    "sqr = math.isqrt(num)\n",
    "\n",
    "if sqr*sqr == num:\n",
    "    print(sqr,\"is a perfect Square\")\n",
    "else:\n",
    "    print(sqr, \"is not a perfect Square\")"
   ]
  },
  {
   "cell_type": "markdown",
   "id": "808f4860-5b2f-4fe6-b1c3-e4c3af137ef1",
   "metadata": {},
   "source": [
    "Explain the purpose of the \"continue\" and \"break\" statements within if-else loops."
   ]
  },
  {
   "cell_type": "raw",
   "id": "bbcd359b-3340-4720-a496-fe5b7c026c0e",
   "metadata": {},
   "source": [
    "Continue: if the condition is true it wii just skip that particular iteration and compltes further loop.\n",
    "Break: if the conition is true it will break/ nt enter the loop again"
   ]
  },
  {
   "cell_type": "markdown",
   "id": "835a94f7-1864-4294-9edf-aca19fd66876",
   "metadata": {},
   "source": [
    "Create a Python program that calculates the BMI (Body Mass Index) of a person based on their weight and height using if-else.\n"
   ]
  },
  {
   "cell_type": "code",
   "execution_count": 58,
   "id": "864153f7-0b9c-45d9-8fe8-351f50699b58",
   "metadata": {},
   "outputs": [
    {
     "name": "stdout",
     "output_type": "stream",
     "text": [
      "22.72\n",
      "Normal\n"
     ]
    }
   ],
   "source": [
    "#Weight in KG\n",
    "weight = 72\n",
    "\n",
    "#Height in CM\n",
    "height = 178\n",
    "\n",
    "#Height in mtr.\n",
    "height_in_mtr = height / 100\n",
    "\n",
    "BMI = weight / (height_in_mtr ** 2)\n",
    "\n",
    "print(round(BMI,2))\n",
    "\n",
    "if BMI > 21 and BMI <= 25:\n",
    "    print(\"Normal\")\n",
    "elif BMI > 25:\n",
    "    print(\"Obese\")\n",
    "else:\n",
    "    print(\"Underweight\")"
   ]
  },
  {
   "cell_type": "markdown",
   "id": "ba95cb4c-faaf-4bf8-81e9-d5e3ee46abf7",
   "metadata": {},
   "source": [
    "How can you use the \"filter()\" function with if-else statements to filter elements from a list?"
   ]
  },
  {
   "cell_type": "code",
   "execution_count": 74,
   "id": "0edebd12-9d70-4f24-a364-428419fb5fa6",
   "metadata": {},
   "outputs": [
    {
     "name": "stdout",
     "output_type": "stream",
     "text": [
      "[1, 2, 3, 4, 5]\n"
     ]
    }
   ],
   "source": [
    "num = [1,2,3,4,5,6,7,8,9]\n",
    "\n",
    "\n",
    "def fil_num(x):\n",
    "    if x < 6:\n",
    "        return True\n",
    "    else:\n",
    "        return False\n",
    "\n",
    "filtered_num = filter(fil_num, num)\n",
    "\n",
    "print(list(filtered_num))"
   ]
  },
  {
   "cell_type": "markdown",
   "id": "24c2779e-cd4d-412f-866d-17ab53aec97f",
   "metadata": {},
   "source": [
    "Write a Python program to determine if a given number is prime or not using if-else."
   ]
  },
  {
   "cell_type": "code",
   "execution_count": 86,
   "id": "fc198bd4-8a64-4586-a56b-26cf5336c81e",
   "metadata": {},
   "outputs": [
    {
     "data": {
      "text/plain": [
       "False"
      ]
     },
     "execution_count": 86,
     "metadata": {},
     "output_type": "execute_result"
    }
   ],
   "source": [
    "def is_prime(num):\n",
    "    if num <=1:\n",
    "        return False\n",
    "    elif num == 2:\n",
    "        return True\n",
    "    elif num % 2 == 0:\n",
    "        return False\n",
    "    else:\n",
    "        prime = True\n",
    "        for i in range(3,int(num**0.5) + 1,2):\n",
    "            if num % i == 0:\n",
    "                return False\n",
    "        return True\n",
    "is_prime(16)"
   ]
  },
  {
   "cell_type": "markdown",
   "id": "0c12845a-de6f-480a-afb4-cba3664b360a",
   "metadata": {},
   "source": [
    "\n",
    "Map :-"
   ]
  },
  {
   "cell_type": "markdown",
   "id": "c3612243-ae3f-4bcf-bd05-c4c28d7eb457",
   "metadata": {},
   "source": [
    "Explain the purpose of the `map()` function in Python and provide an example of how it can be used to apply a function to each element of an iterable.\n"
   ]
  },
  {
   "cell_type": "markdown",
   "id": "350bcb52-37d3-44eb-abb5-eedfbd57be84",
   "metadata": {},
   "source": [
    "a function that works as an iterator to return a result after applying a function to every item of an iterable (tuple, lists, etc.)"
   ]
  },
  {
   "cell_type": "code",
   "execution_count": 1,
   "id": "7b0bef39-dd35-444a-a48e-4c5caee9ecac",
   "metadata": {},
   "outputs": [
    {
     "data": {
      "text/plain": [
       "[3, 4, 5, 6, 7, 8, 9, 10, 11]"
      ]
     },
     "execution_count": 1,
     "metadata": {},
     "output_type": "execute_result"
    }
   ],
   "source": [
    "#Example\n",
    "\n",
    "l = [1,2,3,4,5,6,7,8,9]\n",
    "\n",
    "list(map((lambda a : a+2),l))"
   ]
  },
  {
   "cell_type": "markdown",
   "id": "e1fca236-d8c7-4e0f-a36c-ae45a65a5a93",
   "metadata": {},
   "source": [
    "Write a Python program that uses the `map()` function to square each element of a list of numbers."
   ]
  },
  {
   "cell_type": "code",
   "execution_count": 4,
   "id": "26fee4d8-ff1d-4938-b53a-2484f73f1d5d",
   "metadata": {},
   "outputs": [
    {
     "data": {
      "text/plain": [
       "[1, 4, 9, 16, 25, 36, 49, 64, 81]"
      ]
     },
     "execution_count": 4,
     "metadata": {},
     "output_type": "execute_result"
    }
   ],
   "source": [
    "#square\n",
    "\n",
    "l = [1,2,3,4,5,6,7,8,9]\n",
    "\n",
    "list(map((lambda a : a**2),l))\n"
   ]
  },
  {
   "cell_type": "markdown",
   "id": "1a5140b9-b0e8-44c4-92a2-b6994ce97dfa",
   "metadata": {},
   "source": [
    "How does the `map()` function differ from a list comprehension in Python, and when would you choose one over the other?\n"
   ]
  },
  {
   "cell_type": "markdown",
   "id": "51410c85-1392-4d05-8f35-9ec789ef4768",
   "metadata": {},
   "source": [
    "1.map() returns an iterator, which means it doesn't produce a list directly. You need to convert it to a list using list() or iterate over it in a loop or a comprehension.\n",
    "\n",
    "2.List comprehensions return a list directly.\n",
    "\n",
    "Use map() when you have a complex transformation that requires a separate function\n",
    "\n",
    "Use list comprehensions when the transformation is simple and can be expressed directly as an expression."
   ]
  },
  {
   "cell_type": "markdown",
   "id": "b320a99a-07b4-48a0-962b-485714763e3d",
   "metadata": {},
   "source": [
    "Create a Python program that uses the `map()` function to convert a list of names to uppercase.\n"
   ]
  },
  {
   "cell_type": "code",
   "execution_count": 5,
   "id": "8b1eb01d-d824-4f72-b9dd-786d56545c4e",
   "metadata": {},
   "outputs": [
    {
     "data": {
      "text/plain": [
       "['SAI', 'RAVI', 'BHANU', 'ASWIN']"
      ]
     },
     "execution_count": 5,
     "metadata": {},
     "output_type": "execute_result"
    }
   ],
   "source": [
    "l = ['sai','ravi','bhanu','aswin']\n",
    "\n",
    "list(map(lambda a : a.upper(),l))"
   ]
  },
  {
   "cell_type": "markdown",
   "id": "ecf3da08-7383-4836-91a5-c4655d3c6092",
   "metadata": {},
   "source": [
    "Write a Python program that uses the `map()` function to calculate the length of each word in a list of strings."
   ]
  },
  {
   "cell_type": "code",
   "execution_count": 6,
   "id": "5208a6c9-ee5e-4ba7-baa4-b36da52ac4d4",
   "metadata": {},
   "outputs": [
    {
     "data": {
      "text/plain": [
       "['sai', 'ravi', 'bhanu', 'aswin']"
      ]
     },
     "execution_count": 6,
     "metadata": {},
     "output_type": "execute_result"
    }
   ],
   "source": [
    "l"
   ]
  },
  {
   "cell_type": "code",
   "execution_count": 7,
   "id": "aedcaca6-3413-4e92-9f0c-be0ec3184328",
   "metadata": {},
   "outputs": [
    {
     "data": {
      "text/plain": [
       "[3, 4, 5, 5]"
      ]
     },
     "execution_count": 7,
     "metadata": {},
     "output_type": "execute_result"
    }
   ],
   "source": [
    "list(map(lambda a : len(a),l))"
   ]
  },
  {
   "cell_type": "markdown",
   "id": "59618b28-890f-4cb0-9cda-2e3447d28cfe",
   "metadata": {},
   "source": [
    "How can you use the `map()` function to apply a custom function to elements of multiple lists simultaneously in Python?\n"
   ]
  },
  {
   "cell_type": "code",
   "execution_count": 23,
   "id": "5f19a0fe-e8ed-4b96-b5ad-05d8014c81ef",
   "metadata": {},
   "outputs": [],
   "source": [
    "def up(a,b,c):\n",
    "    return a + b + c"
   ]
  },
  {
   "cell_type": "code",
   "execution_count": 24,
   "id": "19a4001c-1327-4944-9380-10e7f9047f05",
   "metadata": {},
   "outputs": [
    {
     "data": {
      "text/plain": [
       "[10, 13, 13, 14, 14]"
      ]
     },
     "execution_count": 24,
     "metadata": {},
     "output_type": "execute_result"
    }
   ],
   "source": [
    "l = [1,2,3,4,5]\n",
    "l1 = [8,9,7,6,4]\n",
    "l2 = [1,2,3,4,5]\n",
    "list(map(up,l,l1,l2))"
   ]
  },
  {
   "cell_type": "markdown",
   "id": "911dcdf1-2329-4d1e-97ff-1d85b8562a3d",
   "metadata": {},
   "source": [
    "Create a Python program that uses `map()` to convert a list of temperatures from Celsius to Fahrenheit."
   ]
  },
  {
   "cell_type": "code",
   "execution_count": 25,
   "id": "7841077c-25ab-46bc-bcb5-2b58a01d084a",
   "metadata": {},
   "outputs": [
    {
     "data": {
      "text/plain": [
       "[212.0, 122.0, 77.0]"
      ]
     },
     "execution_count": 25,
     "metadata": {},
     "output_type": "execute_result"
    }
   ],
   "source": [
    "t = [100,50,25]\n",
    "\n",
    "f = lambda a : a *(9/5) + 32\n",
    "\n",
    "list(map(f,t))"
   ]
  },
  {
   "cell_type": "markdown",
   "id": "74dfb0ea-29d8-4ce7-ae1d-b3bafd929b32",
   "metadata": {},
   "source": [
    "Write a Python program that uses the `map()` function to round each element of a list of floating-point numbers to the nearest integer.\n"
   ]
  },
  {
   "cell_type": "code",
   "execution_count": 29,
   "id": "f7c39b52-083e-45e6-91c1-cf4b56b60595",
   "metadata": {},
   "outputs": [
    {
     "data": {
      "text/plain": [
       "[2.0, 1.0, 5.0, 7.0, 345.0]"
      ]
     },
     "execution_count": 29,
     "metadata": {},
     "output_type": "execute_result"
    }
   ],
   "source": [
    "l = [2.23, 1.33, 4.54, 6.83,344.56]\n",
    "list(map(lambda n : round(n,0),l))"
   ]
  },
  {
   "cell_type": "code",
   "execution_count": 30,
   "id": "21fa7ddd-e943-4f98-bf9b-9161772d123e",
   "metadata": {},
   "outputs": [
    {
     "data": {
      "text/plain": [
       "[2, 1, 5, 7, 345]"
      ]
     },
     "execution_count": 30,
     "metadata": {},
     "output_type": "execute_result"
    }
   ],
   "source": [
    "list(map(round,l))"
   ]
  },
  {
   "cell_type": "markdown",
   "id": "e31e1722-9016-4e85-b93d-035b478df3d2",
   "metadata": {},
   "source": [
    "What is the `reduce()` function in Python, and what module should you import to use it? Provide an example of its basic usage.\n"
   ]
  },
  {
   "cell_type": "markdown",
   "id": "e99371e5-1d6f-4a82-9171-0ea3902dcb55",
   "metadata": {},
   "source": [
    "This function will reduce the values into a single value.\n",
    "functools package\n"
   ]
  },
  {
   "cell_type": "code",
   "execution_count": 32,
   "id": "f48b08a9-e981-4e8c-a175-db6af910a526",
   "metadata": {},
   "outputs": [
    {
     "name": "stdout",
     "output_type": "stream",
     "text": [
      "720\n"
     ]
    }
   ],
   "source": [
    "#Example\n",
    "\n",
    "from functools import reduce\n",
    "\n",
    "l = [1, 2, 3, 4, 5, 6]\n",
    "\n",
    "result = reduce(lambda a, b: a * b, l)\n",
    "\n",
    "print(result)"
   ]
  },
  {
   "cell_type": "markdown",
   "id": "cfdbe534-ed6f-48f5-b1a9-a2a47b20a014",
   "metadata": {},
   "source": [
    "Write a Python program that uses the `reduce()` function to find the product of all elements in a list."
   ]
  },
  {
   "cell_type": "code",
   "execution_count": 33,
   "id": "ec3cc9c0-df5e-4ed2-a394-e9df625f6f44",
   "metadata": {},
   "outputs": [
    {
     "name": "stdout",
     "output_type": "stream",
     "text": [
      "5765760\n"
     ]
    }
   ],
   "source": [
    "\n",
    "l = [11, 12, 13, 14, 15, 16]\n",
    "\n",
    "result = reduce(lambda a, b: a * b, l)\n",
    "\n",
    "print(result)"
   ]
  },
  {
   "cell_type": "markdown",
   "id": "29ed4b7d-0bdd-4255-b88a-8686914ae252",
   "metadata": {},
   "source": [
    "Create a Python program that uses `reduce()` to find the maximum element in a list of numbers.\n"
   ]
  },
  {
   "cell_type": "code",
   "execution_count": 34,
   "id": "f5e2b4a8-501a-4818-a6db-7bb568ad8525",
   "metadata": {},
   "outputs": [
    {
     "data": {
      "text/plain": [
       "16"
      ]
     },
     "execution_count": 34,
     "metadata": {},
     "output_type": "execute_result"
    }
   ],
   "source": [
    "l = [11, 12, 13, 14, 15, 16]\n",
    "\n",
    "reduce((lambda a , b : a if a > b else b),l)"
   ]
  },
  {
   "cell_type": "markdown",
   "id": "3ff5e545-8aed-476e-be20-cd86d4c91255",
   "metadata": {},
   "source": [
    "How can you use the `reduce()` function to concatenate a list of strings into a single string?\n"
   ]
  },
  {
   "cell_type": "code",
   "execution_count": 35,
   "id": "3ba3081e-35aa-42cc-93ba-1535b013b264",
   "metadata": {},
   "outputs": [
    {
     "data": {
      "text/plain": [
       "'saikumar'"
      ]
     },
     "execution_count": 35,
     "metadata": {},
     "output_type": "execute_result"
    }
   ],
   "source": [
    "l = ['s','a','i','k','u','m','a','r']\n",
    "\n",
    "reduce((lambda a , b : a + b),l)"
   ]
  },
  {
   "cell_type": "markdown",
   "id": "55ea362d-fe45-4b60-affa-7be9286d958f",
   "metadata": {},
   "source": [
    "Write a Python program that calculates the factorial of a number using the `reduce()` function."
   ]
  },
  {
   "cell_type": "code",
   "execution_count": 36,
   "id": "552dbea0-bc79-4ff1-ac10-158eb1c8bfbd",
   "metadata": {},
   "outputs": [
    {
     "data": {
      "text/plain": [
       "120"
      ]
     },
     "execution_count": 36,
     "metadata": {},
     "output_type": "execute_result"
    }
   ],
   "source": [
    "n = 5\n",
    "\n",
    "reduce(lambda a , b : a*b , range(1,n+1))"
   ]
  },
  {
   "cell_type": "markdown",
   "id": "37046c64-647b-4040-8de4-9d499706447f",
   "metadata": {},
   "source": [
    "Create a Python program that uses `reduce()` to find the GCD (Greatest Common Divisor) of a list of numbers.\n"
   ]
  },
  {
   "cell_type": "code",
   "execution_count": 37,
   "id": "e343d56e-0898-4b9a-b426-7a53944d9d98",
   "metadata": {},
   "outputs": [
    {
     "data": {
      "text/plain": [
       "10"
      ]
     },
     "execution_count": 37,
     "metadata": {},
     "output_type": "execute_result"
    }
   ],
   "source": [
    "import math\n",
    "\n",
    "l = [20,20,40,50,60]\n",
    "\n",
    "reduce(lambda a, b : math.gcd(a,b) , l)"
   ]
  },
  {
   "cell_type": "markdown",
   "id": "9ffd2a61-962d-4ff6-952c-35b31aa54f69",
   "metadata": {},
   "source": [
    "Write a Python program that uses the `reduce()` function to find the sum of the digits of a given number.\n"
   ]
  },
  {
   "cell_type": "code",
   "execution_count": 41,
   "id": "0c6f0259-dc80-4b9d-bce4-7917719da0b5",
   "metadata": {},
   "outputs": [
    {
     "data": {
      "text/plain": [
       "6"
      ]
     },
     "execution_count": 41,
     "metadata": {},
     "output_type": "execute_result"
    }
   ],
   "source": [
    "n = '123'\n",
    "reduce((lambda a,b : int(a) + int(b)) , [i for i in n])"
   ]
  },
  {
   "cell_type": "markdown",
   "id": "2daa8c68-57bf-4cf0-992c-40c2a6602ac0",
   "metadata": {},
   "source": [
    "\n",
    "Filter :-\n"
   ]
  },
  {
   "cell_type": "markdown",
   "id": "54bf1c43-1c1a-4bb3-a770-e26f2f838091",
   "metadata": {},
   "source": [
    "Explain the purpose of the `filter()` function in Python and provide an example of how it can be used to filter elements from an iterable.\n"
   ]
  },
  {
   "cell_type": "markdown",
   "id": "272bb8eb-4840-47bf-b25c-933040c45746",
   "metadata": {},
   "source": [
    "it will filter the values based on the given condition"
   ]
  },
  {
   "cell_type": "code",
   "execution_count": 43,
   "id": "f01a0ebf-c7f7-4d75-bc44-4c37dafae07b",
   "metadata": {},
   "outputs": [
    {
     "data": {
      "text/plain": [
       "[2, 4, 6]"
      ]
     },
     "execution_count": 43,
     "metadata": {},
     "output_type": "execute_result"
    }
   ],
   "source": [
    "#Example\n",
    "\n",
    "l = [1,2,3,4,5,6]\n",
    "\n",
    "list(filter(lambda a:a%2 == 0, l))"
   ]
  },
  {
   "cell_type": "markdown",
   "id": "991d830b-2903-4b78-ae79-143a077ee518",
   "metadata": {},
   "source": [
    "Write a Python program that uses the `filter()` function to select even numbers from a list of integers."
   ]
  },
  {
   "cell_type": "code",
   "execution_count": 44,
   "id": "cff6c581-fb91-4744-a9ce-27f86e3fc374",
   "metadata": {},
   "outputs": [
    {
     "data": {
      "text/plain": [
       "[122, 224, 26]"
      ]
     },
     "execution_count": 44,
     "metadata": {},
     "output_type": "execute_result"
    }
   ],
   "source": [
    "l = [11,122,13,224,15,26]\n",
    "\n",
    "list(filter(lambda a:a%2 == 0, l))"
   ]
  },
  {
   "cell_type": "markdown",
   "id": "c9ccf291-b389-4995-94ad-401dac1a49af",
   "metadata": {},
   "source": [
    "Create a Python program that uses the `filter()` function to select names that start with a specific letter from a list of strings.\n"
   ]
  },
  {
   "cell_type": "code",
   "execution_count": 45,
   "id": "9da58041-f3a9-4e40-9a7c-3fe782de079f",
   "metadata": {},
   "outputs": [
    {
     "data": {
      "text/plain": [
       "['sai', 'sam']"
      ]
     },
     "execution_count": 45,
     "metadata": {},
     "output_type": "execute_result"
    }
   ],
   "source": [
    "l = ['sai', 'ravi', 'sam','aswin' 'sun']\n",
    "\n",
    "list(filter(lambda a:a[0] == 's',l))"
   ]
  },
  {
   "cell_type": "markdown",
   "id": "1963211c-490e-451d-b47b-f6950a2c9bde",
   "metadata": {},
   "source": [
    "Write a Python program that uses the `filter()` function to select prime numbers from a list of integers."
   ]
  },
  {
   "cell_type": "code",
   "execution_count": 74,
   "id": "df7393b3-5cc2-4808-991d-da54e3814abb",
   "metadata": {},
   "outputs": [],
   "source": [
    "import math\n",
    "\n",
    "def is_prime(n):\n",
    "    if n <= 1:\n",
    "        return False\n",
    "    elif n == 2:\n",
    "        return True\n",
    "    elif n % 2 == 0:\n",
    "        return False\n",
    "    else:\n",
    "        for i in range(3, int(math.sqrt(n)) + 1, 2):\n",
    "            if n % i == 0:\n",
    "                return False\n",
    "        return True"
   ]
  },
  {
   "cell_type": "code",
   "execution_count": 75,
   "id": "b2fec71e-ed1b-4953-ad1b-174595aaf0f4",
   "metadata": {},
   "outputs": [],
   "source": [
    "l = list(range(1,100))"
   ]
  },
  {
   "cell_type": "code",
   "execution_count": 79,
   "id": "5b11f64e-c666-40b9-b9cc-c4932343e96b",
   "metadata": {},
   "outputs": [
    {
     "name": "stdout",
     "output_type": "stream",
     "text": [
      "[2, 3, 5, 7, 11, 13, 17, 19, 23, 29, 31, 37, 41, 43, 47, 53, 59, 61, 67, 71, 73, 79, 83, 89, 97] 25\n"
     ]
    }
   ],
   "source": [
    "p = list(filter(is_prime,l))\n",
    "print(p,len(p))"
   ]
  },
  {
   "cell_type": "markdown",
   "id": "0b1d2081-f9a4-47b2-badd-3c7f855648aa",
   "metadata": {},
   "source": [
    "How can you use the `filter()` function to remove None values from a list in Python?"
   ]
  },
  {
   "cell_type": "code",
   "execution_count": 2,
   "id": "e30a2775-c33a-4e5e-90fb-85b304a11605",
   "metadata": {},
   "outputs": [
    {
     "data": {
      "text/plain": [
       "[1, 2, 3]"
      ]
     },
     "execution_count": 2,
     "metadata": {},
     "output_type": "execute_result"
    }
   ],
   "source": [
    "my_list = [1,2,None,3,None]\n",
    "\n",
    "\n",
    "list(filter(lambda a: a is not None,my_list))"
   ]
  },
  {
   "cell_type": "markdown",
   "id": "3b784395-ee89-4e52-a7d8-522340102347",
   "metadata": {},
   "source": [
    "Create a Python program that uses `filter()` to select words longer than a certain length from a list of strings.\n"
   ]
  },
  {
   "cell_type": "code",
   "execution_count": 4,
   "id": "56c23b0a-5c96-4036-bca3-6ceb01746560",
   "metadata": {},
   "outputs": [
    {
     "data": {
      "text/plain": [
       "['kumar', 'saikumar', 'maddibina']"
      ]
     },
     "execution_count": 4,
     "metadata": {},
     "output_type": "execute_result"
    }
   ],
   "source": [
    "l = ['sai','kumar','saikumar','maddibina']\n",
    "\n",
    "list(filter(lambda a: len(a) > 3,l))"
   ]
  },
  {
   "cell_type": "markdown",
   "id": "77e6f2d9-accc-4bae-ac2b-e3a62e01ad59",
   "metadata": {},
   "source": [
    "Write a Python program that uses the `filter()` function to select elements greater than a specified threshold from a list of values.\n"
   ]
  },
  {
   "cell_type": "code",
   "execution_count": 5,
   "id": "7fe7e84e-fd65-416e-a785-cde60ecdf7c5",
   "metadata": {},
   "outputs": [
    {
     "data": {
      "text/plain": [
       "[4, 5, 6, 7, 8, 9, 10]"
      ]
     },
     "execution_count": 5,
     "metadata": {},
     "output_type": "execute_result"
    }
   ],
   "source": [
    "l = [1,2,3,4,5,6,7,8,9,10]\n",
    "\n",
    "list(filter(lambda a: a > 3,l))"
   ]
  },
  {
   "cell_type": "markdown",
   "id": "33babb4c-3409-49a3-bb15-204c94fb1c24",
   "metadata": {},
   "source": [
    "Recursion:-\n"
   ]
  },
  {
   "cell_type": "markdown",
   "id": "bc5688ae-20b7-4799-a5a4-76b86b170661",
   "metadata": {},
   "source": [
    "Explain the concept of recursion in Python. How does it differ from iteration?\n"
   ]
  },
  {
   "cell_type": "markdown",
   "id": "62b0e1cd-303e-4065-b780-e91bf9027759",
   "metadata": {},
   "source": [
    "Recursion is a process in which a function calls itself.\n",
    "Diff. b/w iteration and recursion is there is no sequential end to recursive code. It tests on a base condition and can go as long as that is satisfid."
   ]
  },
  {
   "cell_type": "markdown",
   "id": "6c6bb7e5-fc20-4495-aaa4-851c950a27cf",
   "metadata": {},
   "source": [
    "Write a Python program to calculate the factorial of a number using recursion.\n"
   ]
  },
  {
   "cell_type": "code",
   "execution_count": 1,
   "id": "3c62165d-8361-4350-b2ee-d44fb9712941",
   "metadata": {},
   "outputs": [],
   "source": [
    "def factorial_num(n):\n",
    "    if n <= 1:\n",
    "        return 1\n",
    "    else:\n",
    "        return n * factorial_num(n-1)"
   ]
  },
  {
   "cell_type": "code",
   "execution_count": 3,
   "id": "3eb3f15c-6b98-463c-89f5-ef024a163371",
   "metadata": {},
   "outputs": [
    {
     "data": {
      "text/plain": [
       "3628800"
      ]
     },
     "execution_count": 3,
     "metadata": {},
     "output_type": "execute_result"
    }
   ],
   "source": [
    "factorial_num(10)"
   ]
  },
  {
   "cell_type": "markdown",
   "id": "22b68a82-76a8-4817-86db-bb9dbdc701fe",
   "metadata": {},
   "source": [
    "Create a recursive Python function to find the nth Fibonacci number.\n"
   ]
  },
  {
   "cell_type": "code",
   "execution_count": 6,
   "id": "bda7e436-3a5e-465a-9640-965e260e3d10",
   "metadata": {},
   "outputs": [
    {
     "data": {
      "text/plain": [
       "5"
      ]
     },
     "execution_count": 6,
     "metadata": {},
     "output_type": "execute_result"
    }
   ],
   "source": [
    "def fib(n):\n",
    "    if n <= 1:\n",
    "        return n\n",
    "    else:\n",
    "        return fib(n-1) + fib(n-2)\n",
    "fib(5)"
   ]
  },
  {
   "cell_type": "markdown",
   "id": "d8e029cf-4eb9-4741-a824-5e1f96e295aa",
   "metadata": {},
   "source": [
    "Write a recursive Python function to calculate the sum of all elements in a list.\n"
   ]
  },
  {
   "cell_type": "code",
   "execution_count": 7,
   "id": "bcb96faa-abac-480b-b187-1a055b801487",
   "metadata": {},
   "outputs": [],
   "source": [
    "def sum_list(lst):\n",
    "    if not lst:\n",
    "        return 0\n",
    "    else:\n",
    "        return lst[0] + sum_list(lst[1:])"
   ]
  },
  {
   "cell_type": "code",
   "execution_count": 8,
   "id": "7c433fc6-36e4-45fd-9fbe-d8d23870d311",
   "metadata": {},
   "outputs": [
    {
     "data": {
      "text/plain": [
       "15"
      ]
     },
     "execution_count": 8,
     "metadata": {},
     "output_type": "execute_result"
    }
   ],
   "source": [
    "sum_list([1,2,3,4,5])"
   ]
  },
  {
   "cell_type": "markdown",
   "id": "74b1d1d1-4108-4355-9b4c-cebbe26616c0",
   "metadata": {},
   "source": [
    "How can you prevent a recursive function from running indefinitely, causing a stack overflow error?\n"
   ]
  },
  {
   "cell_type": "markdown",
   "id": "c55131a8-12f8-4bfb-80eb-b5a48ae6b484",
   "metadata": {},
   "source": [
    "One should implement proper termination conditions by defining a base case where function/recursion will stop once it reaches the base condition"
   ]
  },
  {
   "cell_type": "markdown",
   "id": "cfcb4d2b-73ee-4daa-a302-5b49c3cf3f7e",
   "metadata": {},
   "source": [
    "Create a recursive Python function to find the greatest common divisor (GCD) of two numbers using the Euclidean algorithm.\n"
   ]
  },
  {
   "cell_type": "code",
   "execution_count": 9,
   "id": "9fc4200c-1124-47d0-94aa-6cba2f20a451",
   "metadata": {},
   "outputs": [],
   "source": [
    "def gcd(a,b):\n",
    "    \n",
    "    if b == 0:\n",
    "        return a\n",
    "    else:\n",
    "        return gcd(b, a%b)"
   ]
  },
  {
   "cell_type": "code",
   "execution_count": 10,
   "id": "4ab65cd3-d131-4bd2-9d1c-93112c331663",
   "metadata": {},
   "outputs": [
    {
     "data": {
      "text/plain": [
       "2"
      ]
     },
     "execution_count": 10,
     "metadata": {},
     "output_type": "execute_result"
    }
   ],
   "source": [
    "gcd(12,14)"
   ]
  },
  {
   "cell_type": "markdown",
   "id": "67981e9f-22ec-471c-a218-a6c8e86752c6",
   "metadata": {},
   "source": [
    "Write a recursive Python function to reverse a string."
   ]
  },
  {
   "cell_type": "code",
   "execution_count": 9,
   "id": "7b08464d-05d5-4036-8331-e759fb9a844a",
   "metadata": {},
   "outputs": [],
   "source": [
    "def rev_string(s):\n",
    "    if not s:\n",
    "        return \"\"\n",
    "    else:\n",
    "        return s[-1] + rev_string(s[:-1])"
   ]
  },
  {
   "cell_type": "code",
   "execution_count": 10,
   "id": "c9feae3a-88ac-45c2-b138-4fc27398b422",
   "metadata": {},
   "outputs": [
    {
     "data": {
      "text/plain": [
       "'yks'"
      ]
     },
     "execution_count": 10,
     "metadata": {},
     "output_type": "execute_result"
    }
   ],
   "source": [
    "rev_string('sky')"
   ]
  },
  {
   "cell_type": "markdown",
   "id": "d646f083-673b-425f-9de1-5627f0a06215",
   "metadata": {},
   "source": [
    "Create a recursive Python function to calculate the power of a number (x^n)."
   ]
  },
  {
   "cell_type": "code",
   "execution_count": 19,
   "id": "6ee29eff-902f-44f8-b258-6d8c01e9c2c1",
   "metadata": {},
   "outputs": [],
   "source": [
    "def power(x,n):\n",
    "    if n == 0:\n",
    "        return 1\n",
    "    else:\n",
    "        return x * power(x,n-1)"
   ]
  },
  {
   "cell_type": "code",
   "execution_count": 20,
   "id": "d94dbff2-4fee-4879-b71a-c0dbdee53a78",
   "metadata": {},
   "outputs": [
    {
     "data": {
      "text/plain": [
       "32"
      ]
     },
     "execution_count": 20,
     "metadata": {},
     "output_type": "execute_result"
    }
   ],
   "source": [
    "power(2,5)"
   ]
  },
  {
   "cell_type": "markdown",
   "id": "3fd421b9-24e4-4bac-bf99-0d7218776316",
   "metadata": {},
   "source": [
    "Write a recursive Python function to find all permutations of a given string.\n"
   ]
  },
  {
   "cell_type": "code",
   "execution_count": 21,
   "id": "158862b5-b62a-46cd-aa35-913a025df867",
   "metadata": {},
   "outputs": [
    {
     "name": "stdout",
     "output_type": "stream",
     "text": [
      "Permutations of sai are: ['sai', 'sia', 'asi', 'ais', 'isa', 'ias']\n"
     ]
    }
   ],
   "source": [
    "def get_permutations(s):\n",
    "    # Base case\n",
    "    if len(s) <= 1:\n",
    "        return [s]\n",
    "\n",
    "    # Recursive case\n",
    "    permutations = []\n",
    "    for i in range(len(s)):\n",
    "        first_char = s[i]\n",
    "        remaining_chars = s[:i] + s[i+1:]\n",
    "        # Recursively generate permutations for the remaining characters\n",
    "        for perm in get_permutations(remaining_chars):\n",
    "            permutations.append(first_char + perm)\n",
    "    \n",
    "    return permutations\n",
    "\n",
    "input_string = \"sai\"\n",
    "permutations = get_permutations(input_string)\n",
    "print(\"Permutations of\", input_string, \"are:\", permutations)\n"
   ]
  },
  {
   "cell_type": "markdown",
   "id": "84fd866e-2db5-43bb-8327-5fdc78783b9e",
   "metadata": {},
   "source": [
    "Write a recursive Python function to check if a string is a palindrome.\n"
   ]
  },
  {
   "cell_type": "code",
   "execution_count": 22,
   "id": "a44325d5-cd44-4059-9e83-495965401d9e",
   "metadata": {},
   "outputs": [
    {
     "name": "stdout",
     "output_type": "stream",
     "text": [
      "'ironori' is a palindrome: True\n"
     ]
    }
   ],
   "source": [
    "def is_palindrome(s):\n",
    "    # Base case\n",
    "    if len(s) <= 1:\n",
    "        return True\n",
    "    \n",
    "    # Compare the first and last characters\n",
    "    if s[0] != s[-1]:\n",
    "        return False\n",
    "    \n",
    "    # Recursive case: Check the inner substring\n",
    "    return is_palindrome(s[1:-1])\n",
    "\n",
    "input_string = \"ironori\"\n",
    "result = is_palindrome(input_string)\n",
    "print(f\"'{input_string}' is a palindrome: {result}\")\n"
   ]
  },
  {
   "cell_type": "markdown",
   "id": "7ac6ce69-4524-4465-b55d-ab126df4895b",
   "metadata": {},
   "source": [
    "Create a recursive Python function to generate all possible combinations of a list of elements.\n"
   ]
  },
  {
   "cell_type": "code",
   "execution_count": 24,
   "id": "7aa26f2a-1118-47f3-b2ed-55d7bbd9b9c9",
   "metadata": {},
   "outputs": [
    {
     "name": "stdout",
     "output_type": "stream",
     "text": [
      "Combinations: [[1, 2, 3], [1, 2], [1, 3], [1], [2, 3], [2], [3], []]\n"
     ]
    }
   ],
   "source": [
    "def generate_combinations(lst):\n",
    "    # Base case\n",
    "    if not lst:\n",
    "        return [[]]\n",
    "    \n",
    "    # Get the first element\n",
    "    first_elem = lst[0]\n",
    "    \n",
    "    # Recursively generate combinations without the first element\n",
    "    combinations_without_first = generate_combinations(lst[1:])\n",
    "    \n",
    "    # Include the first element in each combination\n",
    "    combinations_with_first = []\n",
    "    for combo in combinations_without_first:\n",
    "        combinations_with_first.append([first_elem] + combo)\n",
    "    \n",
    "    # Merge combinations with and without the first element\n",
    "    return combinations_with_first + combinations_without_first\n",
    "\n",
    "# Example usage:\n",
    "my_list = [1, 2, 3]\n",
    "combinations = generate_combinations(my_list)\n",
    "print(\"Combinations:\", combinations)\n"
   ]
  },
  {
   "cell_type": "markdown",
   "id": "f05b75f7-ffb6-4aca-abda-1d083fd3131c",
   "metadata": {},
   "source": [
    "Basics of Functions:"
   ]
  },
  {
   "cell_type": "markdown",
   "id": "dc2c8afc-e6e8-4d0a-8e89-197467a7e1cd",
   "metadata": {},
   "source": [
    "What is a function in Python, and why is it used?\n"
   ]
  },
  {
   "cell_type": "raw",
   "id": "1010a8a7-ba6a-41ec-8a58-ced44346eecb",
   "metadata": {},
   "source": [
    "A function in Python is a reusable block of code that performs a specific task or a set of related tasks."
   ]
  },
  {
   "cell_type": "markdown",
   "id": "cfd1b570-c3f3-4682-861b-75edb2cde155",
   "metadata": {},
   "source": [
    "How do you define a function in Python? Provide an example.\n"
   ]
  },
  {
   "cell_type": "code",
   "execution_count": 34,
   "id": "483cab10-4b75-4ab5-8b4b-963e85316ec7",
   "metadata": {},
   "outputs": [],
   "source": [
    "def testie():\n",
    "    return 'sky'"
   ]
  },
  {
   "cell_type": "markdown",
   "id": "d86d97f6-7be7-44b0-8c95-6b6ae6ace3be",
   "metadata": {},
   "source": [
    "Explain the difference between a function definition and a function call.\n"
   ]
  },
  {
   "cell_type": "markdown",
   "id": "f1684b4b-d8d2-4f16-beee-a5ef5fc411b5",
   "metadata": {},
   "source": [
    "A function definition is where you create and specify the behavior of a function, outlining its logic without executing it. In contrast, a function call is the actual execution of the defined function, providing specific arguments and obtaining a result based on the function's logic."
   ]
  },
  {
   "cell_type": "markdown",
   "id": "ed35c84c-10e1-488a-ac78-3803dec99224",
   "metadata": {},
   "source": [
    "Write a Python program that defines a function to calculate the sum of two numbers and then calls the function.\n"
   ]
  },
  {
   "cell_type": "code",
   "execution_count": 35,
   "id": "a81689dc-c38b-40ca-bab8-897715518285",
   "metadata": {},
   "outputs": [
    {
     "data": {
      "text/plain": [
       "3"
      ]
     },
     "execution_count": 35,
     "metadata": {},
     "output_type": "execute_result"
    }
   ],
   "source": [
    "def sum_two_num(a,b):\n",
    "    return a+b\n",
    "sum_two_num(1,2)"
   ]
  },
  {
   "cell_type": "markdown",
   "id": "aae68cb7-76c2-45d1-8e0c-aa42f1402488",
   "metadata": {},
   "source": [
    "What is a function signature, and what information does it typically include?"
   ]
  },
  {
   "cell_type": "markdown",
   "id": "f53db41b-3462-4b4c-90ce-20743e53495c",
   "metadata": {},
   "source": [
    "A function signature is a concise description of a function's interface, which includes essential information about the function's name, parameters, and return type. "
   ]
  },
  {
   "cell_type": "markdown",
   "id": "bcbadf44-84d2-4157-97c5-23c324fc7d42",
   "metadata": {},
   "source": [
    "Create a Python function that takes two arguments and returns their product."
   ]
  },
  {
   "cell_type": "code",
   "execution_count": 36,
   "id": "4e516a61-fd4b-4af4-a578-e476467ae698",
   "metadata": {},
   "outputs": [
    {
     "data": {
      "text/plain": [
       "6"
      ]
     },
     "execution_count": 36,
     "metadata": {},
     "output_type": "execute_result"
    }
   ],
   "source": [
    "def product(a,b):\n",
    "    return a*b\n",
    "product(2,3)"
   ]
  },
  {
   "cell_type": "markdown",
   "id": "4dd4f033-a84c-45fb-97d2-43230d75d2d4",
   "metadata": {},
   "source": [
    "Function Parameters and Arguments:\n"
   ]
  },
  {
   "cell_type": "markdown",
   "id": "9e96012e-717e-4074-9f1d-f4b90bb1840c",
   "metadata": {},
   "source": [
    "Explain the concepts of formal parameters and actual arguments in Python functions."
   ]
  },
  {
   "cell_type": "markdown",
   "id": "cd96aa4a-90a6-454c-ad8a-5ef95eafa815",
   "metadata": {},
   "source": [
    "Formal parameters are placeholders or variables defined, act as local variables within the function, representing the values that the function expects to receive when it is called.\n",
    "sum(a,b)\n",
    "Actual arguments, often referred to simply as \"arguments,\" are the values or expressions passed to a function when it is called.\n",
    "sum(3,4)"
   ]
  },
  {
   "cell_type": "markdown",
   "id": "5fe4f7cc-b193-4886-89a9-ffdd7b88c0d0",
   "metadata": {},
   "source": [
    "Write a Python program that defines a function with default argument values."
   ]
  },
  {
   "cell_type": "code",
   "execution_count": 38,
   "id": "e2968d73-fc93-40f5-9259-25d698b0c5a5",
   "metadata": {},
   "outputs": [
    {
     "data": {
      "text/plain": [
       "(5, 6)"
      ]
     },
     "execution_count": 38,
     "metadata": {},
     "output_type": "execute_result"
    }
   ],
   "source": [
    "def default(a=5,b=6):\n",
    "    return a , b\n",
    "default()"
   ]
  },
  {
   "cell_type": "markdown",
   "id": "a687d189-3bd2-4cfd-87e3-75cd92334771",
   "metadata": {},
   "source": [
    "How do you use keyword arguments in Python function calls? Provide an example"
   ]
  },
  {
   "cell_type": "code",
   "execution_count": 47,
   "id": "6ba9da9f-83d5-460f-8db1-cf77a0ba944b",
   "metadata": {},
   "outputs": [
    {
     "data": {
      "text/plain": [
       "{'name': 'sai', 'age': 24}"
      ]
     },
     "execution_count": 47,
     "metadata": {},
     "output_type": "execute_result"
    }
   ],
   "source": [
    "def dic(**kwargs):\n",
    "    return kwargs\n",
    "dic(name='sai',age=24)"
   ]
  },
  {
   "cell_type": "markdown",
   "id": "ff8b8238-3fda-44bc-b904-6ee323da17b3",
   "metadata": {},
   "source": [
    "Create a Python function that accepts a variable number of arguments and calculates their sum.\n"
   ]
  },
  {
   "cell_type": "code",
   "execution_count": 48,
   "id": "25325578-5427-4e17-a4eb-cd41a5d21ace",
   "metadata": {},
   "outputs": [],
   "source": [
    "def summ(*args):\n",
    "    return sum(args)"
   ]
  },
  {
   "cell_type": "code",
   "execution_count": 50,
   "id": "2ea3851d-6822-44bd-b9a8-d6f09179b5eb",
   "metadata": {},
   "outputs": [
    {
     "data": {
      "text/plain": [
       "55"
      ]
     },
     "execution_count": 50,
     "metadata": {},
     "output_type": "execute_result"
    }
   ],
   "source": [
    "summ(1,2,3,4,5,6,7,8,9,10)"
   ]
  },
  {
   "cell_type": "markdown",
   "id": "b499d304-8002-4133-9423-0584d8d224cb",
   "metadata": {},
   "source": [
    "What is the purpose of the `*args` and `**kwargs` syntax in function parameter lists?"
   ]
  },
  {
   "cell_type": "markdown",
   "id": "203bdf99-3525-482e-8717-326726209925",
   "metadata": {},
   "source": [
    "*args - accepts n no. of arguments\n",
    "**kwargs - acceps dict type values"
   ]
  },
  {
   "cell_type": "markdown",
   "id": "b9632ce4-e81a-4164-8392-2e11a54a0dd8",
   "metadata": {},
   "source": [
    "Return Values and Scoping:\n"
   ]
  },
  {
   "cell_type": "markdown",
   "id": "f9a1047f-e4ca-470c-a33f-544456bd9ac5",
   "metadata": {},
   "source": [
    "Describe the role of the `return` statement in Python functions and provide examples.\n"
   ]
  },
  {
   "cell_type": "markdown",
   "id": "0868ea4e-6b52-4db9-9488-be7a28edd953",
   "metadata": {},
   "source": [
    "if we use print , type will be none and we cant perforn primitive operations where in case of return we can"
   ]
  },
  {
   "cell_type": "markdown",
   "id": "409f0134-0065-4541-b724-a38996ebe2a7",
   "metadata": {},
   "source": [
    "Explain the concept of variable scope in Python, including local and global variables.\n"
   ]
  },
  {
   "cell_type": "markdown",
   "id": "887bad7f-d1e8-4356-9f9e-b8615024a41d",
   "metadata": {},
   "source": [
    "Variable scope in Python refers to the context where a variable is accessible and can be used.\n",
    "\n",
    "inside a function variable comes under local scope and can be accessible only inside a function.\n",
    "variables declared outside the function acts as a global variable and can be accessed anywhere in the program"
   ]
  },
  {
   "cell_type": "markdown",
   "id": "724d9a8d-dc5d-4551-ab88-e3f613f0055e",
   "metadata": {},
   "source": [
    "Write a Python program that demonstrates the use of global variables within functions."
   ]
  },
  {
   "cell_type": "code",
   "execution_count": 53,
   "id": "b9bb7422-1448-4c76-81e0-33a5a2b341da",
   "metadata": {},
   "outputs": [
    {
     "data": {
      "text/plain": [
       "200"
      ]
     },
     "execution_count": 53,
     "metadata": {},
     "output_type": "execute_result"
    }
   ],
   "source": [
    "a = 10\n",
    "\n",
    "def product(b):\n",
    "    return a * b\n",
    "product(20)"
   ]
  },
  {
   "cell_type": "markdown",
   "id": "043d16d9-820c-4ff6-a8f5-932bdd5fc33d",
   "metadata": {},
   "source": [
    "Create a Python function that calculates the factorial of a number and returns it.\n"
   ]
  },
  {
   "cell_type": "code",
   "execution_count": 54,
   "id": "5b35b37f-faab-4173-993e-f54a580089aa",
   "metadata": {},
   "outputs": [],
   "source": [
    "def fact(n):\n",
    "    if n <= 1:\n",
    "        return 1\n",
    "    else:\n",
    "        return n * fact(n-1)"
   ]
  },
  {
   "cell_type": "code",
   "execution_count": 56,
   "id": "42a3bc7f-bd0f-4842-9bfe-68c27fca1d5d",
   "metadata": {},
   "outputs": [
    {
     "data": {
      "text/plain": [
       "3628800"
      ]
     },
     "execution_count": 56,
     "metadata": {},
     "output_type": "execute_result"
    }
   ],
   "source": [
    "fact(10)"
   ]
  },
  {
   "cell_type": "markdown",
   "id": "e46129f1-ebe9-4df4-bac0-443db7356e7f",
   "metadata": {},
   "source": [
    "How can you access variables defined outside a function from within the function?\n"
   ]
  },
  {
   "cell_type": "code",
   "execution_count": 57,
   "id": "8920e186-5f9d-453f-b347-5f38851046c7",
   "metadata": {},
   "outputs": [
    {
     "data": {
      "text/plain": [
       "200"
      ]
     },
     "execution_count": 57,
     "metadata": {},
     "output_type": "execute_result"
    }
   ],
   "source": [
    "#global variable\n",
    "a = 10\n",
    "\n",
    "def product(b):\n",
    "    #accessing global var. inside the fn.\n",
    "    return a * b\n",
    "product(20)"
   ]
  },
  {
   "cell_type": "markdown",
   "id": "97d8b2b1-d46d-4962-b0c6-c0e76bde469f",
   "metadata": {},
   "source": [
    "Lambda Functions and Higher-Order Functions:"
   ]
  },
  {
   "cell_type": "markdown",
   "id": "81f1e19b-a38d-4068-84b6-958bb28b2bc3",
   "metadata": {},
   "source": [
    "What are lambda functions in Python, and when are they typically used?\n"
   ]
  },
  {
   "cell_type": "markdown",
   "id": "6c3d51e4-fcdc-4558-a838-d364b5effb23",
   "metadata": {},
   "source": [
    "these are anonymous functions. These are used when we want to create single line of functions without many logics"
   ]
  },
  {
   "cell_type": "markdown",
   "id": "76acd49f-69f3-45ae-bd2e-4ed15cc1b5d1",
   "metadata": {},
   "source": [
    "Write a Python program that uses lambda functions to sort a list of tuples based on the second element"
   ]
  },
  {
   "cell_type": "code",
   "execution_count": 63,
   "id": "3040000a-4c09-482b-93b6-d969334a9de3",
   "metadata": {},
   "outputs": [
    {
     "data": {
      "text/plain": [
       "[(4, 1), (3, 2), (5, 3), (1, 5), (2, 8)]"
      ]
     },
     "execution_count": 63,
     "metadata": {},
     "output_type": "execute_result"
    }
   ],
   "source": [
    "tuples_list = [(1, 5), (3, 2), (2, 8), (4, 1), (5, 3)]\n",
    "\n",
    "sorted(tuples_list,key=lambda a:a[1])"
   ]
  },
  {
   "cell_type": "markdown",
   "id": "0f47d5d2-b762-413a-930a-59080021439e",
   "metadata": {},
   "source": [
    "Explain the concept of higher-order functions in Python, and provide an example.\n"
   ]
  },
  {
   "cell_type": "code",
   "execution_count": 64,
   "id": "8fc33b3a-110b-42d7-9c9f-acb93a817277",
   "metadata": {},
   "outputs": [
    {
     "data": {
      "text/plain": [
       "4"
      ]
     },
     "execution_count": 64,
     "metadata": {},
     "output_type": "execute_result"
    }
   ],
   "source": [
    "#In Python, a higher-order function is a function that takes one or more functions as arguments or returns a function as its result.\n",
    "\n",
    "\n",
    "def higher_order(func,x):\n",
    "    return func(x)\n",
    "\n",
    "def square(x):\n",
    "    return x**2\n",
    "\n",
    "higher_order(square,2)"
   ]
  },
  {
   "cell_type": "markdown",
   "id": "2f0445b1-40d3-43a4-af02-4f79afbf16d5",
   "metadata": {},
   "source": [
    "Create a Python function that takes a list of numbers and a function as arguments, applying the function to each element in the list.\n"
   ]
  },
  {
   "cell_type": "code",
   "execution_count": 65,
   "id": "5695b19f-4b68-47c2-a5cb-ac3e62a50834",
   "metadata": {},
   "outputs": [
    {
     "data": {
      "text/plain": [
       "[1, 4, 9, 16, 25]"
      ]
     },
     "execution_count": 65,
     "metadata": {},
     "output_type": "execute_result"
    }
   ],
   "source": [
    "\n",
    "def higher_order(func,x):\n",
    "    return func(x)\n",
    "\n",
    "def square(lst):\n",
    "    return list(map(lambda a : a**2,lst))\n",
    "\n",
    "higher_order(square,[1,2,3,4,5])"
   ]
  },
  {
   "cell_type": "markdown",
   "id": "3106138e-8725-416e-bfc9-73ba83b026d5",
   "metadata": {},
   "source": [
    "Built-in Functions:\n"
   ]
  },
  {
   "cell_type": "markdown",
   "id": "bad740e8-251d-4dec-a84c-4605eeb6e0ce",
   "metadata": {},
   "source": [
    "Describe the role of built-in functions like `len()`, `max()`, and `min()` in Python."
   ]
  },
  {
   "cell_type": "code",
   "execution_count": 66,
   "id": "8558830e-2a03-4372-a182-093418f72155",
   "metadata": {},
   "outputs": [
    {
     "name": "stdout",
     "output_type": "stream",
     "text": [
      "5\n",
      "1\n",
      "5\n"
     ]
    }
   ],
   "source": [
    "# len() - calculates the length\n",
    "# max() - calculates the max value\n",
    "# min() - calculates the min value\n",
    "\n",
    "l = [1,2,3,4,5]\n",
    "\n",
    "print(len(l))\n",
    "print(min(l))\n",
    "print(max(l))"
   ]
  },
  {
   "cell_type": "markdown",
   "id": "b729228b-6567-4260-8e80-6a53e1b6c489",
   "metadata": {},
   "source": [
    "Write a Python program that uses the `map()` function to apply a function to each element of a list.\n"
   ]
  },
  {
   "cell_type": "code",
   "execution_count": 67,
   "id": "5db5f7c8-f7a5-43a7-b5e9-5bf16bb1cc8d",
   "metadata": {},
   "outputs": [
    {
     "data": {
      "text/plain": [
       "[4, 16, 36]"
      ]
     },
     "execution_count": 67,
     "metadata": {},
     "output_type": "execute_result"
    }
   ],
   "source": [
    "def square(lst):\n",
    "    return list(map(lambda a : a**2,lst))\n",
    "square([2,4,6])"
   ]
  },
  {
   "cell_type": "markdown",
   "id": "776c6fc8-bbcf-4893-ac94-2d4f4834baf8",
   "metadata": {},
   "source": [
    "How does the `filter()` function work in Python, and when would you use it?\n"
   ]
  },
  {
   "cell_type": "code",
   "execution_count": 69,
   "id": "1fe108c2-754e-471a-a464-cfd9575a71ca",
   "metadata": {},
   "outputs": [
    {
     "data": {
      "text/plain": [
       "[2, 4, 6, 8]"
      ]
     },
     "execution_count": 69,
     "metadata": {},
     "output_type": "execute_result"
    }
   ],
   "source": [
    "lst = [1,2,3,4,5,6,7,8,9]\n",
    "list(filter(lambda a:a%2 == 0,lst))\n",
    "\n",
    "#it filters the values based on given condition. can be used when single line of logic is used"
   ]
  },
  {
   "cell_type": "markdown",
   "id": "eea3e994-7d58-4a53-9aa1-e1745a84c9da",
   "metadata": {},
   "source": [
    "Create a Python program that uses the `reduce()` function to find the product of all elements in a list.\n"
   ]
  },
  {
   "cell_type": "code",
   "execution_count": 70,
   "id": "1393990f-c17b-4ad3-8f4d-4a3bf46d2847",
   "metadata": {},
   "outputs": [
    {
     "data": {
      "text/plain": [
       "40320"
      ]
     },
     "execution_count": 70,
     "metadata": {},
     "output_type": "execute_result"
    }
   ],
   "source": [
    "l = [1,2,3,4,5,6,7,8]\n",
    "\n",
    "from functools import reduce\n",
    "\n",
    "reduce(lambda a,b : a*b , l)"
   ]
  },
  {
   "cell_type": "markdown",
   "id": "11f83899-a32a-41ad-8313-6c825d1c8e7c",
   "metadata": {},
   "source": [
    "Function Documentation and Best Practices:\n"
   ]
  },
  {
   "cell_type": "markdown",
   "id": "c01975f1-3986-473e-a36d-8323ff3607d1",
   "metadata": {},
   "source": [
    "Explain the purpose of docstrings in Python functions and how to write them.\n"
   ]
  },
  {
   "cell_type": "markdown",
   "id": "a65619b7-fbe1-4872-a605-f938f5eb82c8",
   "metadata": {},
   "source": [
    "Docstrings in Python functions serve the purpose of providing documentation and information about the function's purpose, usage, and parameters. "
   ]
  },
  {
   "cell_type": "code",
   "execution_count": 71,
   "id": "3d3725da-6f1d-440a-96dc-94441250be8a",
   "metadata": {},
   "outputs": [],
   "source": [
    "def add(a,b):\n",
    "    \"\"\" take two input arguments and find the sum \"\"\"\n",
    "    return a + b"
   ]
  },
  {
   "cell_type": "code",
   "execution_count": 72,
   "id": "9168499c-92d2-4c4b-949c-a58fca3ed25f",
   "metadata": {},
   "outputs": [
    {
     "data": {
      "text/plain": [
       "5"
      ]
     },
     "execution_count": 72,
     "metadata": {},
     "output_type": "execute_result"
    }
   ],
   "source": [
    "add(2,3)"
   ]
  },
  {
   "cell_type": "markdown",
   "id": "853fcf97-c579-4582-9669-a5afeab8aa33",
   "metadata": {},
   "source": [
    "Describe some best practices for naming functions and variables in Python, including naming conventions and guidelines."
   ]
  },
  {
   "cell_type": "markdown",
   "id": "1b0e3ea4-b186-4fab-9cde-d7082e7d847c",
   "metadata": {},
   "source": [
    "1. Use Descriptive Names\n",
    "2. Follow Snake Case for Functions and Variables: which involves using lowercase letters and separating words with underscores.\n",
    "3. Use CamelCase for Classes:which involves capitalizing the first letter of each word\n",
    "4. Use Verb-Noun Pairing for Function Names: eg: validate_email\n",
    "5. Use Singular Names for Single Items and Plural Names for Collections\n",
    "6. Avoid Reserved Words and Built-in Names\n",
    "7. Use Comments for Clarity When Necessary\n",
    "8. Consistent Case for Constants:Constants are variables whose values should not be changed once defined.\n",
    "9. Use Meaningful Prefixes for Global Variables:\n",
    "- If you use global variables, consider using prefixes like g_ or global_ to distinguish them from local variables."
   ]
  },
  {
   "cell_type": "code",
   "execution_count": null,
   "id": "91bc7ced-17ae-4ab3-90c3-638469465dc4",
   "metadata": {},
   "outputs": [],
   "source": []
  }
 ],
 "metadata": {
  "kernelspec": {
   "display_name": "Python 3 (ipykernel)",
   "language": "python",
   "name": "python3"
  },
  "language_info": {
   "codemirror_mode": {
    "name": "ipython",
    "version": 3
   },
   "file_extension": ".py",
   "mimetype": "text/x-python",
   "name": "python",
   "nbconvert_exporter": "python",
   "pygments_lexer": "ipython3",
   "version": "3.10.8"
  }
 },
 "nbformat": 4,
 "nbformat_minor": 5
}
